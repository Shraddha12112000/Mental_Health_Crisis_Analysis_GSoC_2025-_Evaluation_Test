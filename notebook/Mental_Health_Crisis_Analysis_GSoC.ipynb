{
  "cells": [
    {
      "cell_type": "markdown",
      "metadata": {
        "id": "ALthQeORzQbk"
      },
      "source": [
        "# 🧠 Mental Health Crisis Analysis GSoC 2025 Evaluation Test\n",
        "\n",
        "This notebook is part of the evaluation test for the GSoC 2025 project:  \n",
        "**\"AI-Powered Behavioral Analysis for Suicide Prevention and Crisis Detection with Geospatial Trend Analysis\"** under ISSR.\n",
        "\n",
        "**Author**: **Shraddha Gujar**\n",
        "**Time Period**: 26 March 2025 to 6 April 2025\n",
        "---\n",
        "\n",
        "## 📋 Overview\n",
        "\n",
        "This notebook covers the following tasks:\n",
        "\n",
        "   1. **Social Media Data Extraction & Preprocessing**\n",
        "   2. **Sentiment & Crisis Risk Classification**\n",
        "   3. **Geolocation & Crisis Heatmap Visualization**\n"
      ]
    },
    {
      "cell_type": "markdown",
      "metadata": {
        "id": "GxCOgEJO0IGw"
      },
      "source": [
        "## ✅ Task 1: Social Media Data Extraction & Preprocessing\n",
        "\n",
        "- Extract Reddit posts using Pushshift API based on crisis-related keywords.\n",
        "- Store: Post ID, Timestamp, Content, Score, Number of Comments.\n",
        "- Clean text: Remove stopwords, emojis, special characters, and URLs.\n"
      ]
    },
    {
      "cell_type": "code",
      "execution_count": 5,
      "metadata": {
        "colab": {
          "base_uri": "https://localhost:8080/"
        },
        "id": "RZuotchEy7-f",
        "outputId": "096a93d8-3856-4022-9273-d9dc10807d58"
      },
      "outputs": [
        {
          "name": "stdout",
          "output_type": "stream",
          "text": [
            "Requirement already satisfied: praw in /usr/local/lib/python3.11/dist-packages (7.8.1)\n",
            "Requirement already satisfied: pandas in /usr/local/lib/python3.11/dist-packages (2.2.2)\n",
            "Requirement already satisfied: nltk in /usr/local/lib/python3.11/dist-packages (3.9.1)\n",
            "Requirement already satisfied: prawcore<3,>=2.4 in /usr/local/lib/python3.11/dist-packages (from praw) (2.4.0)\n",
            "Requirement already satisfied: update_checker>=0.18 in /usr/local/lib/python3.11/dist-packages (from praw) (0.18.0)\n",
            "Requirement already satisfied: websocket-client>=0.54.0 in /usr/local/lib/python3.11/dist-packages (from praw) (1.8.0)\n",
            "Requirement already satisfied: numpy>=1.23.2 in /usr/local/lib/python3.11/dist-packages (from pandas) (2.0.2)\n",
            "Requirement already satisfied: python-dateutil>=2.8.2 in /usr/local/lib/python3.11/dist-packages (from pandas) (2.8.2)\n",
            "Requirement already satisfied: pytz>=2020.1 in /usr/local/lib/python3.11/dist-packages (from pandas) (2025.2)\n",
            "Requirement already satisfied: tzdata>=2022.7 in /usr/local/lib/python3.11/dist-packages (from pandas) (2025.2)\n",
            "Requirement already satisfied: click in /usr/local/lib/python3.11/dist-packages (from nltk) (8.1.8)\n",
            "Requirement already satisfied: joblib in /usr/local/lib/python3.11/dist-packages (from nltk) (1.4.2)\n",
            "Requirement already satisfied: regex>=2021.8.3 in /usr/local/lib/python3.11/dist-packages (from nltk) (2024.11.6)\n",
            "Requirement already satisfied: tqdm in /usr/local/lib/python3.11/dist-packages (from nltk) (4.67.1)\n",
            "Requirement already satisfied: requests<3.0,>=2.6.0 in /usr/local/lib/python3.11/dist-packages (from prawcore<3,>=2.4->praw) (2.32.3)\n",
            "Requirement already satisfied: six>=1.5 in /usr/local/lib/python3.11/dist-packages (from python-dateutil>=2.8.2->pandas) (1.17.0)\n",
            "Requirement already satisfied: charset-normalizer<4,>=2 in /usr/local/lib/python3.11/dist-packages (from requests<3.0,>=2.6.0->prawcore<3,>=2.4->praw) (3.4.1)\n",
            "Requirement already satisfied: idna<4,>=2.5 in /usr/local/lib/python3.11/dist-packages (from requests<3.0,>=2.6.0->prawcore<3,>=2.4->praw) (3.10)\n",
            "Requirement already satisfied: urllib3<3,>=1.21.1 in /usr/local/lib/python3.11/dist-packages (from requests<3.0,>=2.6.0->prawcore<3,>=2.4->praw) (2.3.0)\n",
            "Requirement already satisfied: certifi>=2017.4.17 in /usr/local/lib/python3.11/dist-packages (from requests<3.0,>=2.6.0->prawcore<3,>=2.4->praw) (2025.1.31)\n"
          ]
        },
        {
          "name": "stderr",
          "output_type": "stream",
          "text": [
            "[nltk_data] Downloading package stopwords to /root/nltk_data...\n",
            "[nltk_data]   Package stopwords is already up-to-date!\n",
            "[nltk_data] Downloading package vader_lexicon to /root/nltk_data...\n",
            "[nltk_data]   Package vader_lexicon is already up-to-date!\n"
          ]
        },
        {
          "data": {
            "text/plain": [
              "True"
            ]
          },
          "execution_count": 5,
          "metadata": {},
          "output_type": "execute_result"
        }
      ],
      "source": [
        "# Step 1: Install dependencies (run once)\n",
        "!pip install praw pandas nltk\n",
        "\n",
        "# Step 2: Import libraries\n",
        "import praw\n",
        "import pandas as pd\n",
        "import datetime\n",
        "import nltk\n",
        "import re\n",
        "import string\n",
        "from nltk.corpus import stopwords\n",
        "from nltk.sentiment.vader import SentimentIntensityAnalyzer\n",
        "from sklearn.feature_extraction.text import TfidfVectorizer\n",
        "import matplotlib.pyplot as plt\n",
        "import seaborn as sns\n",
        "nltk.download('stopwords')\n",
        "nltk.download('vader_lexicon')"
      ]
    },
    {
      "cell_type": "code",
      "execution_count": 6,
      "metadata": {
        "id": "QqSJLt4R7ddS"
      },
      "outputs": [],
      "source": [
        "# Step 3: Authenticate with Reddit\n",
        "reddit = praw.Reddit(\n",
        "    client_id=\"wuRRxfSTIXiQnMSpIbauIA\",\n",
        "    client_secret=\"7NL42l5ZiTCBWcZTFyHAcz9I9lbDtA\",\n",
        "    user_agent=\"gsoc_mental_health_analysis\"\n",
        ")"
      ]
    },
    {
      "cell_type": "code",
      "execution_count": 7,
      "metadata": {
        "id": "x24xumAq7hsv"
      },
      "outputs": [],
      "source": [
        "# Step 4: Define search keywords and subreddits\n",
        "# ✅ Multiple subreddits\n",
        "subreddits = [\n",
        "    \"depression\", \"SuicideWatch\", \"addiction\", \"mentalhealth\", \"BPD\",\n",
        "    \"Anxiety\", \"depersonalization\", \"PanicAttack\", \"offmychest\",\n",
        "    \"TrueOffMyChest\"\n",
        "]\n",
        "\n",
        "keywords = [\n",
        "    \"depressed\", \"suicidal\", \"mental breakdown\", \"addiction help\", \"overwhelmed\",\n",
        "    \"anxiety attack\", \"loneliness\", \"I can't go on\", \"panic\", \"relapse\",\n",
        "    \"I feel empty\", \"hopeless\", \"worthless\", \"end it all\", \"I need help\"\n",
        "]\n",
        "\n"
      ]
    },
    {
      "cell_type": "code",
      "execution_count": 8,
      "metadata": {
        "id": "oDDo37q0B55H"
      },
      "outputs": [],
      "source": [
        "from datetime import datetime"
      ]
    },
    {
      "cell_type": "code",
      "execution_count": 9,
      "metadata": {
        "colab": {
          "base_uri": "https://localhost:8080/"
        },
        "id": "hxE90A8q7l_u",
        "outputId": "0a882eaa-a349-4a98-a992-86f902e09c31"
      },
      "outputs": [
        {
          "name": "stderr",
          "output_type": "stream",
          "text": [
            "WARNING:praw:It appears that you are using PRAW in an asynchronous environment.\n",
            "It is strongly recommended to use Async PRAW: https://asyncpraw.readthedocs.io.\n",
            "See https://praw.readthedocs.io/en/latest/getting_started/multiple_instances.html#discord-bots-and-asynchronous-environments for more info.\n",
            "\n"
          ]
        },
        {
          "name": "stdout",
          "output_type": "stream",
          "text": [
            "🔍 Scraping r/depression...\n"
          ]
        },
        {
          "name": "stderr",
          "output_type": "stream",
          "text": [
            "WARNING:praw:It appears that you are using PRAW in an asynchronous environment.\n",
            "It is strongly recommended to use Async PRAW: https://asyncpraw.readthedocs.io.\n",
            "See https://praw.readthedocs.io/en/latest/getting_started/multiple_instances.html#discord-bots-and-asynchronous-environments for more info.\n",
            "\n",
            "WARNING:praw:It appears that you are using PRAW in an asynchronous environment.\n",
            "It is strongly recommended to use Async PRAW: https://asyncpraw.readthedocs.io.\n",
            "See https://praw.readthedocs.io/en/latest/getting_started/multiple_instances.html#discord-bots-and-asynchronous-environments for more info.\n",
            "\n"
          ]
        },
        {
          "name": "stdout",
          "output_type": "stream",
          "text": [
            "🔍 Scraping r/SuicideWatch...\n"
          ]
        },
        {
          "name": "stderr",
          "output_type": "stream",
          "text": [
            "WARNING:praw:It appears that you are using PRAW in an asynchronous environment.\n",
            "It is strongly recommended to use Async PRAW: https://asyncpraw.readthedocs.io.\n",
            "See https://praw.readthedocs.io/en/latest/getting_started/multiple_instances.html#discord-bots-and-asynchronous-environments for more info.\n",
            "\n",
            "WARNING:praw:It appears that you are using PRAW in an asynchronous environment.\n",
            "It is strongly recommended to use Async PRAW: https://asyncpraw.readthedocs.io.\n",
            "See https://praw.readthedocs.io/en/latest/getting_started/multiple_instances.html#discord-bots-and-asynchronous-environments for more info.\n",
            "\n",
            "WARNING:praw:It appears that you are using PRAW in an asynchronous environment.\n",
            "It is strongly recommended to use Async PRAW: https://asyncpraw.readthedocs.io.\n",
            "See https://praw.readthedocs.io/en/latest/getting_started/multiple_instances.html#discord-bots-and-asynchronous-environments for more info.\n",
            "\n"
          ]
        },
        {
          "name": "stdout",
          "output_type": "stream",
          "text": [
            "🔍 Scraping r/addiction...\n",
            "🔍 Scraping r/mentalhealth...\n"
          ]
        },
        {
          "name": "stderr",
          "output_type": "stream",
          "text": [
            "WARNING:praw:It appears that you are using PRAW in an asynchronous environment.\n",
            "It is strongly recommended to use Async PRAW: https://asyncpraw.readthedocs.io.\n",
            "See https://praw.readthedocs.io/en/latest/getting_started/multiple_instances.html#discord-bots-and-asynchronous-environments for more info.\n",
            "\n",
            "WARNING:praw:It appears that you are using PRAW in an asynchronous environment.\n",
            "It is strongly recommended to use Async PRAW: https://asyncpraw.readthedocs.io.\n",
            "See https://praw.readthedocs.io/en/latest/getting_started/multiple_instances.html#discord-bots-and-asynchronous-environments for more info.\n",
            "\n"
          ]
        },
        {
          "name": "stdout",
          "output_type": "stream",
          "text": [
            "🔍 Scraping r/BPD...\n"
          ]
        },
        {
          "name": "stderr",
          "output_type": "stream",
          "text": [
            "WARNING:praw:It appears that you are using PRAW in an asynchronous environment.\n",
            "It is strongly recommended to use Async PRAW: https://asyncpraw.readthedocs.io.\n",
            "See https://praw.readthedocs.io/en/latest/getting_started/multiple_instances.html#discord-bots-and-asynchronous-environments for more info.\n",
            "\n",
            "WARNING:praw:It appears that you are using PRAW in an asynchronous environment.\n",
            "It is strongly recommended to use Async PRAW: https://asyncpraw.readthedocs.io.\n",
            "See https://praw.readthedocs.io/en/latest/getting_started/multiple_instances.html#discord-bots-and-asynchronous-environments for more info.\n",
            "\n"
          ]
        },
        {
          "name": "stdout",
          "output_type": "stream",
          "text": [
            "🔍 Scraping r/Anxiety...\n"
          ]
        },
        {
          "name": "stderr",
          "output_type": "stream",
          "text": [
            "WARNING:praw:It appears that you are using PRAW in an asynchronous environment.\n",
            "It is strongly recommended to use Async PRAW: https://asyncpraw.readthedocs.io.\n",
            "See https://praw.readthedocs.io/en/latest/getting_started/multiple_instances.html#discord-bots-and-asynchronous-environments for more info.\n",
            "\n",
            "WARNING:praw:It appears that you are using PRAW in an asynchronous environment.\n",
            "It is strongly recommended to use Async PRAW: https://asyncpraw.readthedocs.io.\n",
            "See https://praw.readthedocs.io/en/latest/getting_started/multiple_instances.html#discord-bots-and-asynchronous-environments for more info.\n",
            "\n"
          ]
        },
        {
          "name": "stdout",
          "output_type": "stream",
          "text": [
            "🔍 Scraping r/depersonalization...\n"
          ]
        },
        {
          "name": "stderr",
          "output_type": "stream",
          "text": [
            "WARNING:praw:It appears that you are using PRAW in an asynchronous environment.\n",
            "It is strongly recommended to use Async PRAW: https://asyncpraw.readthedocs.io.\n",
            "See https://praw.readthedocs.io/en/latest/getting_started/multiple_instances.html#discord-bots-and-asynchronous-environments for more info.\n",
            "\n"
          ]
        },
        {
          "name": "stdout",
          "output_type": "stream",
          "text": [
            "🔍 Scraping r/PanicAttack...\n"
          ]
        },
        {
          "name": "stderr",
          "output_type": "stream",
          "text": [
            "WARNING:praw:It appears that you are using PRAW in an asynchronous environment.\n",
            "It is strongly recommended to use Async PRAW: https://asyncpraw.readthedocs.io.\n",
            "See https://praw.readthedocs.io/en/latest/getting_started/multiple_instances.html#discord-bots-and-asynchronous-environments for more info.\n",
            "\n"
          ]
        },
        {
          "name": "stdout",
          "output_type": "stream",
          "text": [
            "🔍 Scraping r/offmychest...\n"
          ]
        },
        {
          "name": "stderr",
          "output_type": "stream",
          "text": [
            "WARNING:praw:It appears that you are using PRAW in an asynchronous environment.\n",
            "It is strongly recommended to use Async PRAW: https://asyncpraw.readthedocs.io.\n",
            "See https://praw.readthedocs.io/en/latest/getting_started/multiple_instances.html#discord-bots-and-asynchronous-environments for more info.\n",
            "\n",
            "WARNING:praw:It appears that you are using PRAW in an asynchronous environment.\n",
            "It is strongly recommended to use Async PRAW: https://asyncpraw.readthedocs.io.\n",
            "See https://praw.readthedocs.io/en/latest/getting_started/multiple_instances.html#discord-bots-and-asynchronous-environments for more info.\n",
            "\n"
          ]
        },
        {
          "name": "stdout",
          "output_type": "stream",
          "text": [
            "🔍 Scraping r/TrueOffMyChest...\n"
          ]
        },
        {
          "name": "stderr",
          "output_type": "stream",
          "text": [
            "WARNING:praw:It appears that you are using PRAW in an asynchronous environment.\n",
            "It is strongly recommended to use Async PRAW: https://asyncpraw.readthedocs.io.\n",
            "See https://praw.readthedocs.io/en/latest/getting_started/multiple_instances.html#discord-bots-and-asynchronous-environments for more info.\n",
            "\n"
          ]
        },
        {
          "name": "stdout",
          "output_type": "stream",
          "text": [
            "\n",
            "✅ Total posts extracted: 1466\n",
            "\n",
            " Cleaned dataset saved as 'reddit_crisis_cleaned.csv'\n"
          ]
        }
      ],
      "source": [
        "# ✅ Extract Data from Reddit\n",
        "data = []\n",
        "\n",
        "for sub in subreddits:\n",
        "    print(f\"🔍 Scraping r/{sub}...\")\n",
        "    subreddit = reddit.subreddit(sub)\n",
        "    try:\n",
        "       for submission in subreddit.search(\" OR \".join(keywords), sort=\"new\", time_filter=\"year\", limit=200):\n",
        "           data.append({\n",
        "            \"id\": submission.id,\n",
        "            \"timestamp\": datetime.fromtimestamp(submission.created_utc),\n",
        "            \"title\": submission.title,\n",
        "            \"selftext\": submission.selftext,\n",
        "            \"upvotes\": submission.score,\n",
        "            \"num_comments\": submission.num_comments,\n",
        "            \"url\": submission.url\n",
        "           })\n",
        "    except Exception as e:\n",
        "        print(f\"⚠️ Error in r/{sub}: {e}\")\n",
        "\n",
        "print(f\"\\n Total posts extracted: {len(data)}\")\n",
        "\n",
        "# ✅ Convert to DataFrame & Combine Text\n",
        "\n",
        "if len(data) == 0:\n",
        "    print(\"No posts found. Check Reddit credentials or rate limits.\")\n",
        "else:\n",
        "    df = pd.DataFrame(data)\n",
        "    df['text'] = df['title'].fillna(\"\") + \" \" + df['selftext'].fillna(\"\")\n",
        "    # ✅ Text Preprocessing Function\n",
        "    def clean_text(text):\n",
        "        text = text.lower()\n",
        "        text = re.sub(r\"http\\S+\", \"\", text)  # remove URLs\n",
        "        text = re.sub(r\"@[A-Za-z0-9_]+\", \"\", text)  # remove mentions\n",
        "        text = re.sub(r\"#[A-Za-z0-9_]+\", \"\", text)  # remove hashtags\n",
        "        text = text.translate(str.maketrans(\"\", \"\", string.punctuation))\n",
        "        text = re.sub(r\"\\d+\", \"\", text)  # remove numbers\n",
        "        text = re.sub(r\"[^\\x00-\\x7F]+\", \"\", text)  # remove emojis\n",
        "        stop_words = set(stopwords.words('english'))\n",
        "        text = \" \".join([word for word in text.split() if word not in stop_words])\n",
        "        return text\n",
        "\n",
        "    df['clean_text'] = df['text'].apply(clean_text)\n",
        "\n",
        "    # ✅ Save Dataset\n",
        "    df.to_csv(\"reddit_crisis_cleaned.csv\", index=False)\n",
        "    print(\"\\n Cleaned dataset saved as 'reddit_crisis_cleaned.csv'\")\n"
      ]
    },
    {
      "cell_type": "code",
      "execution_count": 10,
      "metadata": {
        "colab": {
          "base_uri": "https://localhost:8080/"
        },
        "id": "jyUvVuo68KSE",
        "outputId": "703c61e8-dbe0-42dc-aee7-d609157a4060"
      },
      "outputs": [
        {
          "data": {
            "text/plain": [
              "(1466, 9)"
            ]
          },
          "execution_count": 10,
          "metadata": {},
          "output_type": "execute_result"
        }
      ],
      "source": [
        "df.shape"
      ]
    },
    {
      "cell_type": "code",
      "execution_count": 11,
      "metadata": {
        "colab": {
          "base_uri": "https://localhost:8080/",
          "height": 771
        },
        "id": "xPyyV3xh8RSR",
        "outputId": "2300fa16-b936-4ecd-af62-c2a21e74a827"
      },
      "outputs": [
        {
          "data": {
            "application/vnd.google.colaboratory.intrinsic+json": {
              "summary": "{\n  \"name\": \"df\",\n  \"rows\": 1466,\n  \"fields\": [\n    {\n      \"column\": \"id\",\n      \"properties\": {\n        \"dtype\": \"string\",\n        \"num_unique_values\": 1466,\n        \"samples\": [\n          \"1jb78zf\",\n          \"1io2qhu\",\n          \"1j7y7e4\"\n        ],\n        \"semantic_type\": \"\",\n        \"description\": \"\"\n      }\n    },\n    {\n      \"column\": \"timestamp\",\n      \"properties\": {\n        \"dtype\": \"date\",\n        \"min\": \"2024-04-08 02:17:26\",\n        \"max\": \"2025-04-06 07:58:58\",\n        \"num_unique_values\": 1466,\n        \"samples\": [\n          \"2025-03-14 15:57:27\",\n          \"2025-02-12 21:47:03\",\n          \"2025-03-10 13:08:57\"\n        ],\n        \"semantic_type\": \"\",\n        \"description\": \"\"\n      }\n    },\n    {\n      \"column\": \"title\",\n      \"properties\": {\n        \"dtype\": \"string\",\n        \"num_unique_values\": 1441,\n        \"samples\": [\n          \"my bf says he doesnt have time for hobbies but wont get off the phone\",\n          \"I'm fading. I need help. Panic disorder 24/7.\",\n          \"I NEED HELP\"\n        ],\n        \"semantic_type\": \"\",\n        \"description\": \"\"\n      }\n    },\n    {\n      \"column\": \"selftext\",\n      \"properties\": {\n        \"dtype\": \"string\",\n        \"num_unique_values\": 1448,\n        \"samples\": [\n          \"SORRY FOR THIS BEING SO LONG PLEASE IF SOMEONE CAN TAKE THE TIME AND READ THIS I TRULY NEED GUIDANCE AND HELP!!   I was having brutal panic attacks for a few months straight and tried anxiety meds but I don\\u2019t want to be on meds and don\\u2019t like the way they make me feel and I can\\u2019t drink and have a good time with my boyfriend:/ and don\\u2019t want to be dependent on meds and naturally heal things . The panic attacks have stopped a lot but still come and go usually if I stay up late and am alone but lately I\\u2019ve been able to control it but tonight I\\u2019m having a terrible panic attack like I haven\\u2019t experienced in a while that has lasted for about two hours now. My doctor prescribed me hydroxyzine for only emergency panic attacks and I took it and it didn\\u2019t even work tonight (it usually does) I\\u2019ve been through so much trauma and finally at peace in life and I thought I made it through I\\u2019m terrified it\\u2019s all going to hit me again. To be fair I went through a constant horrible time filled with trauma for 2-3 years before I got a \\u201cbreak\\u201d I also had a really good day today and this still happened to me I\\u2019m really trying to become a better person and be self aware but it\\u2019s hard when I don\\u2019t really even understand my panic attacks and paranoia health anxiety. And my panic attacks only happen when I\\u2019m laying down but this one happened when i was about to take a shower. its really hard living this way. im 18 cant find a job nothing feels real anymore i dont recognize myself but those 2 years when i was struggling it was easy cause i liked the chaos and was drinking and doing wrong things but now that im good i feel the most horrible.seems like it was easier doing the bad things i was.\",\n          \"When I do try to explain myself to people they would rather argue than hear me out. Everyone just disregards what I have to say. There is no cohesion, no communication. Only when something bad is starting to happen then only will people scramble to find a solution. My gripe is that no matter where I am I am never heard out. People would rather lecture over, shame, disregard, ignore, battle what I suggest to them or even play like I'm stupid or slow. Then they wonder why I barely talk to anyone. Exactly. \\n\\nI'm trying to keep positive and my head up high but it's so draining when NO ONE hardly ever listens to you. People would rather pretend we're inexperienced and stupid/slow. I'm trying to press on so these same people won't be in trouble when I'm not around but for me it's becoming very tiring to continue this curse-filled life I was granted. I sometimes ponder about a scenario where I'm not around and never existed. \\n\\nI guess one day I'll have to go through with a very huge action that will speak louder words. I am tired of it all. So tired of life. I never wanted to be born. It's all just a sham anyway. I don't have any purpose. Everything is already going or have gone wrong anyway and I feel like I am in a neverending hell to fix the things I can't even feasibly work on yet. I'm going to be in my 30s, 40s, 50s soon still dealing with this nonsense, assuming I even live to that time. I'm at a point where I am just tired of it. Every time I come home, work or outside there's something wrong and when I do or say anything I am attacked or shamed. \\n\\nStuff like that will demotivate people to want to even speak much more or even be animated. I can't even bring up and ask people for help and pitch in to pay for things that we all use without it devolving into an argument afterwards. Rhetorically speaking if I need to pass to prove my point, my hands are in the air. Just take me. I'm so tired of this life anyway\\u2014nothing will ever get better only stagnant or even worse. \",\n          \"Hi everyone, so i am a 21 (F) asking for some help. Basically, i am under a lot of stress these past few months and went to the doc for a missed period. she asked if i was anxious and then gave me 25 mg zoloft. I took that but felt weird and got more anxiety. it also gave me insomnia and i cant take naps or sleep properly. Sometimes i get weird symptoms like a tight band/lump feeling around my throat, pulsations in my head/stomach and thinking that i will d\\\\*\\\\*. It is making me very anxious and whatever i do i cannot calm down. I even try to think positive but my mind keeps going to the negative. my appetite is bad too and i dont feel like myself. also my mind is saying that there's no solution and that whatever you do it's gonna backfire. Idk i just need help should i try meds or wait it out because i dont know what the right meds are for me and because the side effects give me more anxiety. \"\n        ],\n        \"semantic_type\": \"\",\n        \"description\": \"\"\n      }\n    },\n    {\n      \"column\": \"upvotes\",\n      \"properties\": {\n        \"dtype\": \"number\",\n        \"std\": 337,\n        \"min\": 0,\n        \"max\": 10833,\n        \"num_unique_values\": 63,\n        \"samples\": [\n          17,\n          26,\n          3\n        ],\n        \"semantic_type\": \"\",\n        \"description\": \"\"\n      }\n    },\n    {\n      \"column\": \"num_comments\",\n      \"properties\": {\n        \"dtype\": \"number\",\n        \"std\": 29,\n        \"min\": 0,\n        \"max\": 797,\n        \"num_unique_values\": 49,\n        \"samples\": [\n          10,\n          44,\n          23\n        ],\n        \"semantic_type\": \"\",\n        \"description\": \"\"\n      }\n    },\n    {\n      \"column\": \"url\",\n      \"properties\": {\n        \"dtype\": \"string\",\n        \"num_unique_values\": 1466,\n        \"samples\": [\n          \"https://www.reddit.com/r/offmychest/comments/1jb78zf/my_ex_of_6_yrs_abandoned_me/\",\n          \"https://www.reddit.com/r/depression/comments/1io2qhu/ive_been_stuck_for_so_many_years_how_do_i_proceed/\",\n          \"https://www.reddit.com/r/offmychest/comments/1j7y7e4/i_just_had_a_really_tough_argument_with_my/\"\n        ],\n        \"semantic_type\": \"\",\n        \"description\": \"\"\n      }\n    },\n    {\n      \"column\": \"text\",\n      \"properties\": {\n        \"dtype\": \"string\",\n        \"num_unique_values\": 1460,\n        \"samples\": [\n          \"cardiac anxiety \\ni\\u2019m 19 years old and have been suffering from cardiac anxiety for about 3 years, but these past few weeks it\\u2019s been debilitating.\\n\\ni used to smoke a lot of weed. like a lot. one night i smoked and while walking back inside i got a little startled by my mom, my heart rate went up. i went up the stairs to my room, my heart rate went up more. this is when my heart rate wouldn\\u2019t stop increasing and i started feeling strange symptoms. i was very short of breath, my hands were tingling, and i was experiencing chest pains. as someone who has always loved to google medical conditions, i immediately believed i was having a heart attack and i began freaking the fuck out. big time. i started writing goodbye letters in my notes app. i went downstairs to tell my mom i was having a heart attack. turns out i was just stoned. \\n\\ni tried to smoke again the night after but i felt the same. i repeated this process of smoking and having a panic attack hoping it would ease my anxiety like it did for my family but it only made it worse. \\n\\nafter about 8 months i started smoking again but my tolerance was never the same, id take one hit of a joint and be on the brink of a panic attack because i could feel my heart in my chest, but as long as i kept talking to my friends i could get through it. none of them knew how i was feeling because i was embarrassed about it. at the end of november 2024 i got high for the last time because i genuinely thought i was going to die. i felt my heartbeat all over my body, it was beating FAST and HARD and i felt something in my chest that i can only describe as extremely uncomfortable. my entire body was weak, nearly numb. i\\u2019ve never felt anything like it. i tried to soothe myself for hours waiting for it to pass, i sat in my shower fully clothed because if i did die i didn\\u2019t want anyone to find me naked. sounds stupid, but i was scared and high. that night was the last time i smoked and i dont intend to do it again.\\n\\ni was excited for my newfound sober-ness because i believed it would make my symptoms go away and if anything i feel worse. one little thing can set me off and at least as far as i can remember, this is the hardest thing i\\u2019ve ever had to go through. i can\\u2019t walk to class because i fear getting my heart rate up will cause a heart attack. i can\\u2019t talk in class because im scared my just regular anxiety will make my heart rate go up and cause a heart attack. i get a little chest pain and it\\u2019s a heart attack. my left arm is a little sore and it\\u2019s a heart attack. earlier i experienced what i believe is precordial catch syndrome and i lost my mind. i paced around my dorm for 20 minutes intermittently, trying to see if i felt better lying down or walking around. i immediately downed 200 mg of hydroxyzine. i started looking up other people on reddit with cardiac anxiety and how they get through an episode. those last two are my solid routine.\\n\\nmy blood pressure is completely normal. in fact, all of my vitals are completely normal, my blood test was completely normal and i know this. logically, i know that i am not going to have a heart attack. there is no history of heart problems with my family. i dont live the healthiest lifestyle, i vape and im not particularly a very healthy weight. but both of my parents have been in worse shape than me for their entire lives, started smoking cigarettes and weed and drinking at 12. they\\u2019re still alive and kicking. i KNOW that theres no way im having a heart attack but the physical symptoms of my anxiety do not obey my thoughts. it creates a whole new fear of, \\u201cwhat if i get cocky, thinking it\\u2019s just my anxiety, and it really is a heart attack.\\u201d \\n\\ni feel like a fucking idiot talking to people about this, and they only scare me more than help me. if i approach the conversation from a \\u201cthis is just anxiety\\u201d standpoint, they urge me to go to the doctor to get my chest pains checked out. if i approach the conversation as if im genuinely concerned for my physical health, they\\u2019ll look at me like im crazy and telling me i should go to the doctor and get my anxiety medication figured out.\\n\\nwhat i say here isnt even half of what ive experienced, partly because there are a lot of things i just cannot put into words and i dont think ill ever find the words needed to convey what i feel. what ive learned from this is that im not invincible. i didn\\u2019t want to know that at my age. moving into college, you\\u2019d except to have the time of your life. partying every weekend, making new friends, hooking up with random people, and this WAS the truth. for about a month. i\\u2019ve lost friends because i can\\u2019t hangout with them if im having a bad day. truthfully, the only thing ive found that soothes me is alcohol. specifically alcohol, in my bed, completely alone. this was something i fell into when i was a sophomore in highschool but i thought i kicked it. you always think you\\u2019ll be the one to beat the generational addiction until you understand why it started in the first place.\\n\\nas i sit here writing this, (which frankly was not meant to be a vent, i wanted advice at first) i feel pain in my left arm because i worked out yesterday, my stomach hurts because im hungry and the pain is radiating to my chest, but the pain in the left side of my jaw is unexplainable to me. the one thing that i can\\u2019t explain will just make me think that everything else is a symptom of a heart attack, and i will go to sleep not expecting to ever wake up. when i wake up tomorrow morning, i will think im having a good day until im not. it\\u2019ll probably hit around 3pm. i wont be able to go to my class. i will have a panic attack. i will google. i will pick at my skin until i bleed. i will have 911 ready to dial because this time it surely is a heart attack. i will call my mom instead, crying because i just cant do this anymore. i will drink heavily until i fall asleep. it will repeat\",\n          \"12 years a NEET, my older sister is heading for deaths door (LONG) Me and my sister have lived the same life, divorced parents and moving around every other year. She used to play the role of an older sister feeling responsible for the younger brother and we had a good relationship making jokes and laughing all the time.\\n\\nShe has aspergers and used to be very social, organised and active albeit she was quite sensitive and sometimes was picked on. She had therapy and loads of treatment to help her concentrate in school and would usually take natural products like fish oil to concentrate and it really seemed like things would go OK for her.\\n\\nHowever, she would cry all the time in her room around when she first got to high school. And I mean all the time. Like it all just blends together. I was so used to it and feel I've blocked it from memory now but must have been every week or so for years. She would do attention seeking things like saying where is the deodorant so she can huff it and kill herself. My mum is still convinced my sister is possessed by an evil spirit or something just to punish her specifically.\\n\\nOne time we found her on the edge of the village bridge wanting to jump off. I knew she wasn't going to do it but at the time, I was so numb to her antics that I really started to despise her and to be honest, I still do. My confidence was lower knowing my once protective sister had become so fragile despite all the help she got even from me. I'm 27 and have never spoke to a therapist in my life nor asked anyone for help even in my toughest days when I was getting my career started in another country away from friends and family.\\n\\nOne time as a teen i was going through an identity crisis and needed support. I mistakenly told my sister about it who snapped back at me saying how little my problems mattered and she was suffering all the time. I never told her about any of my problems since then and nor to any of my parents as I had already lost much of my trust after the divorce when I was 7.\\n\\nShe kept going on and on about how scared she was about life and exams and would have these nervous breakdowns all the time and it would be the same thing over and over like a broken record.\\n\\nShe left school at 16. She had decided not to even attempt her exams. Eventually she took up a job cooking for something like a year or less but of course her defeatism got the better of her and has been living in a council flat all paid by the taxpayer for the past 12 years and hasn't moved a muscle since.\\n\\nI can barely look at her anymore. I can't understand how different we are in how we've handled challenges in life especially considering she always had mum there for her and therapy. I had my own difficulties in school and becoming my own man without a father figure but I had to set aside my own problems because my sister was always starting drama to the point where my mum was almost going crazy at her with the shouting matches.\\n\\nShe is morbidly obese and has been getting catoonishly bigger and bigger somehow for the past few years. Her legs are in pain. She sits at home all day eating chocolate and fast food (she didnt leave the flat for a few years at one point) and whenever I'm visiting and we talk about being 'productive' she explains that she watches TV and that counts as her doing something. She's not even interested in video games or anything remotely interactive and she used to enjoy having a DS back in the day and i couldn't even convince her to get back into it so that she can actually do something a little worthwhile.\\n\\nLast Christmas she stayed in the bathroom for almost an hour because she was in pain trying to get up. I had to leave early because I just couldn't stand it anymore. I felt disgusted its got to this point. I've explained to my mum over and over how this lifestyle is actively killing her and she's only 28 years old.\\n\\nI want to add to further complicate things. She's now apparently developed schizophrenia as of a few years ago. Problem is shes had multiple diagnosis saying bipolar etc and she gets a new diagnosis every year and I'm having a tough time following honestly. Im not sure what to believe since shes made up stuff before not to discredit any diagnosis. Her tranq dosage was upped and not only can she barely walk but she is passing out in the afternoon and sleeping all the time. On the phone she talks like she has alzheimers and has very slurry speech. I haven't been able to communicate with her properly now but honestly, I think I've given up on her for the sake of my own sanity.\\n\\nI'm sorry I might come off as someone who doesn't care. The truth is, I spent a long time trying to. Recently I had to explain this to my gf. She herself is an older sister to two brothers and comes from a good stable family. Something our family had potential to be but made the wrong choices and may have started this mess to begin with.\\n\\n\",\n          \"No motivation to do anything anymore and I think I'd be better off dead. [21F] Hello everyone. I need to vent, and I have no one to vent to, I wish I could get some support, but I know this post will get ignored like most of mine do because nobody cares about me. \\n\\nI haven't gone outside in God knows how long, and if I have it's been for a very short while, a couple hours at most. I haven't gone to school almost the entire year, and I'm in my final year of university, I'm probably not graduating. My mother will be very disappointed in me and I don't even want to think about how she'll abuse me when she finds out I'm likely not gonna finish university after she helped pay some of my tuition. I have no motivation to go to school, I haven't had any since I enrolled, and over the last three years I've been in school I've tried to motivate myself without success. Each year I just had less and less attendance. I don't want to learn anything, I feel exhausted and drained, I don't like any field, I'm not interested in any careers, and unfortunately if I want a job with a liveable wage in my country I not only need my bachelors degree but I should also complete masters. I can't take a break because I know I won't start again if I do, plus, I would need to get a job, because my mother isn't going to let me sit and do nothing. I can't motivate myself to get out of bed and go to school, let alone work a shitty job that's probably not even gonna pay well. \\n\\nI am very lonely, and it hurts so bad, that only fuels my isolation, because I have nothing to go outside for. I hate strangers, I hate crowded places and I don't want to hang out places with less people because I am a woman and scared for my safety, the only reason I would have to go outside for would be friends or a partner, and I have neither. Before you go and say that \\\"of course you don't have a social circle if you never go outside!\\\" I've been outside my entire damn life and I still never made any friends. I've been to school, places people my age hang out, extracurricular activities etc. over the years yet I haven't ever had real or proper friends, why would it be any different now? \\n\\nI'm also incredibly unattractive, I'm fat and ugly and while theoretically I could fix the fat part in practice I can't without slipping back into ED territory like every time I tried to lose weight over the years, the thought of dieting again is extremely distressing and triggering for me. I'm also weird as fuck and have an unappealing personality because I'm autistic on top of everything so I can't even attract someone with that. Although even if I had a great personality people wouldn't give a shit because the outside is repulsing. \\n\\nI feel so useless and hopeless, I wish I could just die somehow, I've tried numerous times over the years to commit suicide yet I've always been unsuccessful because I've always been too much of a pussy to do it properly. I've been self-harming for a long time now just to cope with it all. I'm too scared to try to commit again, because what if something good is waiting for me? Then again, I couldn't possibly regret it, because I'd be dead. I don't see any other way out of my pain and anguish other than death, I've tried so hard for so long to get better and nothing works, I've only gotten worse.\\n\"\n        ],\n        \"semantic_type\": \"\",\n        \"description\": \"\"\n      }\n    },\n    {\n      \"column\": \"clean_text\",\n      \"properties\": {\n        \"dtype\": \"string\",\n        \"num_unique_values\": 1455,\n        \"samples\": [\n          \"feel like im going nowhere feel like im never gonna go anywhere despite hard im trying im im gonna turn month two weeks terrified get older everything ive done far amounts actually nothing im trying hard classes get good grades im trying things help get collages stuff dont see things like going collage getting degree happy life js cant see know still need grow stuff im afraid growing im afraid cant see living next years ultimate plan unalive time turn im afraid live dreams ambitions younger wanted singer worked voice till throat raw today quit choir motivation context choir year sucks nobody actually wants sing participate sound like dookie love choir always quit one thing going dont know motivation anyways im sad abt quitting loved ik quit feel like im gonna loose everything like everything gonna fall apart feel like nobody thats scary im scared dont know anymore\",\n          \"ive cheated times im scared im actually going insane update within past weekmaybe little weekmy paranoia gotten even worse ive panic attacks almost daily girlfriend always ill calm yesterday finally admitted fuller detail whats going ive upset lately understands given history another breakdown two days reddit post tried explain things loud couldnt get words ended showing post could understand going head even couple weeks made first reddit post things got really bad one night went phone againshes never given reason trust couldnt stop myselfand found something random upset wasnt even anything serious lost ended waking yelling got backandforth wasnt yelling anything aggressive seemed confused anything yelling cryinglike fullon sobbing snot tears pouring face eventually turned full panic attack told could leave room wanted id understandbut stayed said knew wasnt okay stayed held shook calmed yesterday opened told everything ive paranoid latelymainly fear shes cheating impossibly specific things literally way true thing know shes shes nothing like exes shes kind trauma know would never someone knows exactly im scared knows whats eating away im gonna say havent accused basically much im paranoid havent like really said dont even believe thoughts truebut still keep creeping completely overwhelming almost constantly made change phone passwordand still dont know refuse let know think access spiral fullblown panic attack dont check dont want either us even still sometimes ill notice phone screen shes asleep ill sit staring like minutesnot touching itjust spiraling head point heavy breathing tears going face finally force turn screen walk away always tells go phone anytime need ask cant get feel like horrible boyfriend feel like im abusive like majority exes feel like im good enough feel like im even meant relationship every time ends betrayal yet im happy ive never close anyone hasnt either dont want ruin havent therapy meds almost two years ive diagnosed bpd schizoaffective disorder stuff dont wanna get know thats part whats fueling still every time try talk someoneany friend anyone alli feel like im dramatic overexaggerating people say understand given ive still feel like none justified ive never taken intentionally try hard mean controlling im scaring ive seriously thinking checking hospital havent inpatient since lately ive getting old urge even briefly ive clean almost years started im turn body already covered scarsi dont want urge come back even minute terrifying know starting affect see even though keeps telling fine shes understands im scaredit still kills im putting weight right im seriously considering admitting hospital next days know need help\",\n          \"need help get loop hello hope well arent feeling well know finished exams exactly week ago havent feeling lately going follow lot interests cant move life nothing feels different weird feel restless cant get anything done even finished ols feel like isnt yet like havent written exam yet im yet write really affecting anyone get im going crazy\"\n        ],\n        \"semantic_type\": \"\",\n        \"description\": \"\"\n      }\n    }\n  ]\n}",
              "type": "dataframe",
              "variable_name": "df"
            },
            "text/html": [
              "\n",
              "  <div id=\"df-931362f1-ab0c-403c-a2ea-450caf015a76\" class=\"colab-df-container\">\n",
              "    <div>\n",
              "<style scoped>\n",
              "    .dataframe tbody tr th:only-of-type {\n",
              "        vertical-align: middle;\n",
              "    }\n",
              "\n",
              "    .dataframe tbody tr th {\n",
              "        vertical-align: top;\n",
              "    }\n",
              "\n",
              "    .dataframe thead th {\n",
              "        text-align: right;\n",
              "    }\n",
              "</style>\n",
              "<table border=\"1\" class=\"dataframe\">\n",
              "  <thead>\n",
              "    <tr style=\"text-align: right;\">\n",
              "      <th></th>\n",
              "      <th>id</th>\n",
              "      <th>timestamp</th>\n",
              "      <th>title</th>\n",
              "      <th>selftext</th>\n",
              "      <th>upvotes</th>\n",
              "      <th>num_comments</th>\n",
              "      <th>url</th>\n",
              "      <th>text</th>\n",
              "      <th>clean_text</th>\n",
              "    </tr>\n",
              "  </thead>\n",
              "  <tbody>\n",
              "    <tr>\n",
              "      <th>0</th>\n",
              "      <td>1jsd3jr</td>\n",
              "      <td>2025-04-05 20:40:10</td>\n",
              "      <td>Can't help but isolate myself from everyone fo...</td>\n",
              "      <td>I'm always socially anxious and have dealt wit...</td>\n",
              "      <td>3</td>\n",
              "      <td>4</td>\n",
              "      <td>https://www.reddit.com/r/depression/comments/1...</td>\n",
              "      <td>Can't help but isolate myself from everyone fo...</td>\n",
              "      <td>cant help isolate everyone months even im wors...</td>\n",
              "    </tr>\n",
              "    <tr>\n",
              "      <th>1</th>\n",
              "      <td>1js9z26</td>\n",
              "      <td>2025-04-05 18:23:30</td>\n",
              "      <td>Sick joke</td>\n",
              "      <td>Life really feels like a sick joke. Everyone g...</td>\n",
              "      <td>3</td>\n",
              "      <td>0</td>\n",
              "      <td>https://www.reddit.com/r/depression/comments/1...</td>\n",
              "      <td>Sick joke Life really feels like a sick joke. ...</td>\n",
              "      <td>sick joke life really feels like sick joke eve...</td>\n",
              "    </tr>\n",
              "    <tr>\n",
              "      <th>2</th>\n",
              "      <td>1js5py6</td>\n",
              "      <td>2025-04-05 15:15:57</td>\n",
              "      <td>struggles with depression</td>\n",
              "      <td>Hey everyone, just thought I'd share a bit, an...</td>\n",
              "      <td>2</td>\n",
              "      <td>2</td>\n",
              "      <td>https://www.reddit.com/r/depression/comments/1...</td>\n",
              "      <td>struggles with depression Hey everyone, just t...</td>\n",
              "      <td>struggles depression hey everyone thought id s...</td>\n",
              "    </tr>\n",
              "    <tr>\n",
              "      <th>3</th>\n",
              "      <td>1js5f7i</td>\n",
              "      <td>2025-04-05 15:02:23</td>\n",
              "      <td>Weird day</td>\n",
              "      <td>Had a anxiety attack just now. I am sure my ey...</td>\n",
              "      <td>3</td>\n",
              "      <td>0</td>\n",
              "      <td>https://www.reddit.com/r/depression/comments/1...</td>\n",
              "      <td>Weird day Had a anxiety attack just now. I am ...</td>\n",
              "      <td>weird day anxiety attack sure eyes swollen bur...</td>\n",
              "    </tr>\n",
              "    <tr>\n",
              "      <th>4</th>\n",
              "      <td>1jry584</td>\n",
              "      <td>2025-04-05 07:35:20</td>\n",
              "      <td>I had to post to get it off my chest. Maybe it...</td>\n",
              "      <td>You know I really don't want to leave you. I d...</td>\n",
              "      <td>3</td>\n",
              "      <td>1</td>\n",
              "      <td>https://www.reddit.com/r/depression/comments/1...</td>\n",
              "      <td>I had to post to get it off my chest. Maybe it...</td>\n",
              "      <td>post get chest maybe itll hhelp maybe wont lif...</td>\n",
              "    </tr>\n",
              "    <tr>\n",
              "      <th>...</th>\n",
              "      <td>...</td>\n",
              "      <td>...</td>\n",
              "      <td>...</td>\n",
              "      <td>...</td>\n",
              "      <td>...</td>\n",
              "      <td>...</td>\n",
              "      <td>...</td>\n",
              "      <td>...</td>\n",
              "      <td>...</td>\n",
              "    </tr>\n",
              "    <tr>\n",
              "      <th>1461</th>\n",
              "      <td>1ij2lgn</td>\n",
              "      <td>2025-02-06 13:31:56</td>\n",
              "      <td>Getting out of a toxic relationship</td>\n",
              "      <td>My partner (M31) and I (W28) have been togethe...</td>\n",
              "      <td>2</td>\n",
              "      <td>0</td>\n",
              "      <td>https://www.reddit.com/r/TrueOffMyChest/commen...</td>\n",
              "      <td>Getting out of a toxic relationship My partner...</td>\n",
              "      <td>getting toxic relationship partner w together ...</td>\n",
              "    </tr>\n",
              "    <tr>\n",
              "      <th>1462</th>\n",
              "      <td>1iize38</td>\n",
              "      <td>2025-02-06 10:18:34</td>\n",
              "      <td>Fell in love with someone but they discovered ...</td>\n",
              "      <td>I (19m) fell back in love with someone (19nb) ...</td>\n",
              "      <td>1</td>\n",
              "      <td>9</td>\n",
              "      <td>https://www.reddit.com/r/TrueOffMyChest/commen...</td>\n",
              "      <td>Fell in love with someone but they discovered ...</td>\n",
              "      <td>fell love someone discovered lesbian advice fe...</td>\n",
              "    </tr>\n",
              "    <tr>\n",
              "      <th>1463</th>\n",
              "      <td>1ii8drn</td>\n",
              "      <td>2025-02-05 12:00:20</td>\n",
              "      <td>I dont like who I am at all</td>\n",
              "      <td>I really dont know why I'm like this. I dont f...</td>\n",
              "      <td>7</td>\n",
              "      <td>2</td>\n",
              "      <td>https://www.reddit.com/r/TrueOffMyChest/commen...</td>\n",
              "      <td>I dont like who I am at all I really dont know...</td>\n",
              "      <td>dont like really dont know im like dont feel l...</td>\n",
              "    </tr>\n",
              "    <tr>\n",
              "      <th>1464</th>\n",
              "      <td>1ii42y4</td>\n",
              "      <td>2025-02-05 06:40:58</td>\n",
              "      <td>My friend murdered her husband and I just foun...</td>\n",
              "      <td>Throwaway account, who knows who's reading thi...</td>\n",
              "      <td>1077</td>\n",
              "      <td>64</td>\n",
              "      <td>https://www.reddit.com/r/TrueOffMyChest/commen...</td>\n",
              "      <td>My friend murdered her husband and I just foun...</td>\n",
              "      <td>friend murdered husband found several weeks fa...</td>\n",
              "    </tr>\n",
              "    <tr>\n",
              "      <th>1465</th>\n",
              "      <td>1ih6zui</td>\n",
              "      <td>2025-02-04 02:15:04</td>\n",
              "      <td>I just want someone to validate me on this</td>\n",
              "      <td>**TRIGGER WARNING!!!!** ~~suicide~~\\n\\nSorry f...</td>\n",
              "      <td>9</td>\n",
              "      <td>3</td>\n",
              "      <td>https://www.reddit.com/r/TrueOffMyChest/commen...</td>\n",
              "      <td>I just want someone to validate me on this **T...</td>\n",
              "      <td>want someone validate trigger warning suicide ...</td>\n",
              "    </tr>\n",
              "  </tbody>\n",
              "</table>\n",
              "<p>1466 rows × 9 columns</p>\n",
              "</div>\n",
              "    <div class=\"colab-df-buttons\">\n",
              "\n",
              "  <div class=\"colab-df-container\">\n",
              "    <button class=\"colab-df-convert\" onclick=\"convertToInteractive('df-931362f1-ab0c-403c-a2ea-450caf015a76')\"\n",
              "            title=\"Convert this dataframe to an interactive table.\"\n",
              "            style=\"display:none;\">\n",
              "\n",
              "  <svg xmlns=\"http://www.w3.org/2000/svg\" height=\"24px\" viewBox=\"0 -960 960 960\">\n",
              "    <path d=\"M120-120v-720h720v720H120Zm60-500h600v-160H180v160Zm220 220h160v-160H400v160Zm0 220h160v-160H400v160ZM180-400h160v-160H180v160Zm440 0h160v-160H620v160ZM180-180h160v-160H180v160Zm440 0h160v-160H620v160Z\"/>\n",
              "  </svg>\n",
              "    </button>\n",
              "\n",
              "  <style>\n",
              "    .colab-df-container {\n",
              "      display:flex;\n",
              "      gap: 12px;\n",
              "    }\n",
              "\n",
              "    .colab-df-convert {\n",
              "      background-color: #E8F0FE;\n",
              "      border: none;\n",
              "      border-radius: 50%;\n",
              "      cursor: pointer;\n",
              "      display: none;\n",
              "      fill: #1967D2;\n",
              "      height: 32px;\n",
              "      padding: 0 0 0 0;\n",
              "      width: 32px;\n",
              "    }\n",
              "\n",
              "    .colab-df-convert:hover {\n",
              "      background-color: #E2EBFA;\n",
              "      box-shadow: 0px 1px 2px rgba(60, 64, 67, 0.3), 0px 1px 3px 1px rgba(60, 64, 67, 0.15);\n",
              "      fill: #174EA6;\n",
              "    }\n",
              "\n",
              "    .colab-df-buttons div {\n",
              "      margin-bottom: 4px;\n",
              "    }\n",
              "\n",
              "    [theme=dark] .colab-df-convert {\n",
              "      background-color: #3B4455;\n",
              "      fill: #D2E3FC;\n",
              "    }\n",
              "\n",
              "    [theme=dark] .colab-df-convert:hover {\n",
              "      background-color: #434B5C;\n",
              "      box-shadow: 0px 1px 3px 1px rgba(0, 0, 0, 0.15);\n",
              "      filter: drop-shadow(0px 1px 2px rgba(0, 0, 0, 0.3));\n",
              "      fill: #FFFFFF;\n",
              "    }\n",
              "  </style>\n",
              "\n",
              "    <script>\n",
              "      const buttonEl =\n",
              "        document.querySelector('#df-931362f1-ab0c-403c-a2ea-450caf015a76 button.colab-df-convert');\n",
              "      buttonEl.style.display =\n",
              "        google.colab.kernel.accessAllowed ? 'block' : 'none';\n",
              "\n",
              "      async function convertToInteractive(key) {\n",
              "        const element = document.querySelector('#df-931362f1-ab0c-403c-a2ea-450caf015a76');\n",
              "        const dataTable =\n",
              "          await google.colab.kernel.invokeFunction('convertToInteractive',\n",
              "                                                    [key], {});\n",
              "        if (!dataTable) return;\n",
              "\n",
              "        const docLinkHtml = 'Like what you see? Visit the ' +\n",
              "          '<a target=\"_blank\" href=https://colab.research.google.com/notebooks/data_table.ipynb>data table notebook</a>'\n",
              "          + ' to learn more about interactive tables.';\n",
              "        element.innerHTML = '';\n",
              "        dataTable['output_type'] = 'display_data';\n",
              "        await google.colab.output.renderOutput(dataTable, element);\n",
              "        const docLink = document.createElement('div');\n",
              "        docLink.innerHTML = docLinkHtml;\n",
              "        element.appendChild(docLink);\n",
              "      }\n",
              "    </script>\n",
              "  </div>\n",
              "\n",
              "\n",
              "<div id=\"df-072418fa-6d28-4f25-bfbd-1b5d45309945\">\n",
              "  <button class=\"colab-df-quickchart\" onclick=\"quickchart('df-072418fa-6d28-4f25-bfbd-1b5d45309945')\"\n",
              "            title=\"Suggest charts\"\n",
              "            style=\"display:none;\">\n",
              "\n",
              "<svg xmlns=\"http://www.w3.org/2000/svg\" height=\"24px\"viewBox=\"0 0 24 24\"\n",
              "     width=\"24px\">\n",
              "    <g>\n",
              "        <path d=\"M19 3H5c-1.1 0-2 .9-2 2v14c0 1.1.9 2 2 2h14c1.1 0 2-.9 2-2V5c0-1.1-.9-2-2-2zM9 17H7v-7h2v7zm4 0h-2V7h2v10zm4 0h-2v-4h2v4z\"/>\n",
              "    </g>\n",
              "</svg>\n",
              "  </button>\n",
              "\n",
              "<style>\n",
              "  .colab-df-quickchart {\n",
              "      --bg-color: #E8F0FE;\n",
              "      --fill-color: #1967D2;\n",
              "      --hover-bg-color: #E2EBFA;\n",
              "      --hover-fill-color: #174EA6;\n",
              "      --disabled-fill-color: #AAA;\n",
              "      --disabled-bg-color: #DDD;\n",
              "  }\n",
              "\n",
              "  [theme=dark] .colab-df-quickchart {\n",
              "      --bg-color: #3B4455;\n",
              "      --fill-color: #D2E3FC;\n",
              "      --hover-bg-color: #434B5C;\n",
              "      --hover-fill-color: #FFFFFF;\n",
              "      --disabled-bg-color: #3B4455;\n",
              "      --disabled-fill-color: #666;\n",
              "  }\n",
              "\n",
              "  .colab-df-quickchart {\n",
              "    background-color: var(--bg-color);\n",
              "    border: none;\n",
              "    border-radius: 50%;\n",
              "    cursor: pointer;\n",
              "    display: none;\n",
              "    fill: var(--fill-color);\n",
              "    height: 32px;\n",
              "    padding: 0;\n",
              "    width: 32px;\n",
              "  }\n",
              "\n",
              "  .colab-df-quickchart:hover {\n",
              "    background-color: var(--hover-bg-color);\n",
              "    box-shadow: 0 1px 2px rgba(60, 64, 67, 0.3), 0 1px 3px 1px rgba(60, 64, 67, 0.15);\n",
              "    fill: var(--button-hover-fill-color);\n",
              "  }\n",
              "\n",
              "  .colab-df-quickchart-complete:disabled,\n",
              "  .colab-df-quickchart-complete:disabled:hover {\n",
              "    background-color: var(--disabled-bg-color);\n",
              "    fill: var(--disabled-fill-color);\n",
              "    box-shadow: none;\n",
              "  }\n",
              "\n",
              "  .colab-df-spinner {\n",
              "    border: 2px solid var(--fill-color);\n",
              "    border-color: transparent;\n",
              "    border-bottom-color: var(--fill-color);\n",
              "    animation:\n",
              "      spin 1s steps(1) infinite;\n",
              "  }\n",
              "\n",
              "  @keyframes spin {\n",
              "    0% {\n",
              "      border-color: transparent;\n",
              "      border-bottom-color: var(--fill-color);\n",
              "      border-left-color: var(--fill-color);\n",
              "    }\n",
              "    20% {\n",
              "      border-color: transparent;\n",
              "      border-left-color: var(--fill-color);\n",
              "      border-top-color: var(--fill-color);\n",
              "    }\n",
              "    30% {\n",
              "      border-color: transparent;\n",
              "      border-left-color: var(--fill-color);\n",
              "      border-top-color: var(--fill-color);\n",
              "      border-right-color: var(--fill-color);\n",
              "    }\n",
              "    40% {\n",
              "      border-color: transparent;\n",
              "      border-right-color: var(--fill-color);\n",
              "      border-top-color: var(--fill-color);\n",
              "    }\n",
              "    60% {\n",
              "      border-color: transparent;\n",
              "      border-right-color: var(--fill-color);\n",
              "    }\n",
              "    80% {\n",
              "      border-color: transparent;\n",
              "      border-right-color: var(--fill-color);\n",
              "      border-bottom-color: var(--fill-color);\n",
              "    }\n",
              "    90% {\n",
              "      border-color: transparent;\n",
              "      border-bottom-color: var(--fill-color);\n",
              "    }\n",
              "  }\n",
              "</style>\n",
              "\n",
              "  <script>\n",
              "    async function quickchart(key) {\n",
              "      const quickchartButtonEl =\n",
              "        document.querySelector('#' + key + ' button');\n",
              "      quickchartButtonEl.disabled = true;  // To prevent multiple clicks.\n",
              "      quickchartButtonEl.classList.add('colab-df-spinner');\n",
              "      try {\n",
              "        const charts = await google.colab.kernel.invokeFunction(\n",
              "            'suggestCharts', [key], {});\n",
              "      } catch (error) {\n",
              "        console.error('Error during call to suggestCharts:', error);\n",
              "      }\n",
              "      quickchartButtonEl.classList.remove('colab-df-spinner');\n",
              "      quickchartButtonEl.classList.add('colab-df-quickchart-complete');\n",
              "    }\n",
              "    (() => {\n",
              "      let quickchartButtonEl =\n",
              "        document.querySelector('#df-072418fa-6d28-4f25-bfbd-1b5d45309945 button');\n",
              "      quickchartButtonEl.style.display =\n",
              "        google.colab.kernel.accessAllowed ? 'block' : 'none';\n",
              "    })();\n",
              "  </script>\n",
              "</div>\n",
              "\n",
              "  <div id=\"id_bc7f8766-e175-4e5b-9877-cff05ed19f5d\">\n",
              "    <style>\n",
              "      .colab-df-generate {\n",
              "        background-color: #E8F0FE;\n",
              "        border: none;\n",
              "        border-radius: 50%;\n",
              "        cursor: pointer;\n",
              "        display: none;\n",
              "        fill: #1967D2;\n",
              "        height: 32px;\n",
              "        padding: 0 0 0 0;\n",
              "        width: 32px;\n",
              "      }\n",
              "\n",
              "      .colab-df-generate:hover {\n",
              "        background-color: #E2EBFA;\n",
              "        box-shadow: 0px 1px 2px rgba(60, 64, 67, 0.3), 0px 1px 3px 1px rgba(60, 64, 67, 0.15);\n",
              "        fill: #174EA6;\n",
              "      }\n",
              "\n",
              "      [theme=dark] .colab-df-generate {\n",
              "        background-color: #3B4455;\n",
              "        fill: #D2E3FC;\n",
              "      }\n",
              "\n",
              "      [theme=dark] .colab-df-generate:hover {\n",
              "        background-color: #434B5C;\n",
              "        box-shadow: 0px 1px 3px 1px rgba(0, 0, 0, 0.15);\n",
              "        filter: drop-shadow(0px 1px 2px rgba(0, 0, 0, 0.3));\n",
              "        fill: #FFFFFF;\n",
              "      }\n",
              "    </style>\n",
              "    <button class=\"colab-df-generate\" onclick=\"generateWithVariable('df')\"\n",
              "            title=\"Generate code using this dataframe.\"\n",
              "            style=\"display:none;\">\n",
              "\n",
              "  <svg xmlns=\"http://www.w3.org/2000/svg\" height=\"24px\"viewBox=\"0 0 24 24\"\n",
              "       width=\"24px\">\n",
              "    <path d=\"M7,19H8.4L18.45,9,17,7.55,7,17.6ZM5,21V16.75L18.45,3.32a2,2,0,0,1,2.83,0l1.4,1.43a1.91,1.91,0,0,1,.58,1.4,1.91,1.91,0,0,1-.58,1.4L9.25,21ZM18.45,9,17,7.55Zm-12,3A5.31,5.31,0,0,0,4.9,8.1,5.31,5.31,0,0,0,1,6.5,5.31,5.31,0,0,0,4.9,4.9,5.31,5.31,0,0,0,6.5,1,5.31,5.31,0,0,0,8.1,4.9,5.31,5.31,0,0,0,12,6.5,5.46,5.46,0,0,0,6.5,12Z\"/>\n",
              "  </svg>\n",
              "    </button>\n",
              "    <script>\n",
              "      (() => {\n",
              "      const buttonEl =\n",
              "        document.querySelector('#id_bc7f8766-e175-4e5b-9877-cff05ed19f5d button.colab-df-generate');\n",
              "      buttonEl.style.display =\n",
              "        google.colab.kernel.accessAllowed ? 'block' : 'none';\n",
              "\n",
              "      buttonEl.onclick = () => {\n",
              "        google.colab.notebook.generateWithVariable('df');\n",
              "      }\n",
              "      })();\n",
              "    </script>\n",
              "  </div>\n",
              "\n",
              "    </div>\n",
              "  </div>\n"
            ],
            "text/plain": [
              "           id           timestamp  \\\n",
              "0     1jsd3jr 2025-04-05 20:40:10   \n",
              "1     1js9z26 2025-04-05 18:23:30   \n",
              "2     1js5py6 2025-04-05 15:15:57   \n",
              "3     1js5f7i 2025-04-05 15:02:23   \n",
              "4     1jry584 2025-04-05 07:35:20   \n",
              "...       ...                 ...   \n",
              "1461  1ij2lgn 2025-02-06 13:31:56   \n",
              "1462  1iize38 2025-02-06 10:18:34   \n",
              "1463  1ii8drn 2025-02-05 12:00:20   \n",
              "1464  1ii42y4 2025-02-05 06:40:58   \n",
              "1465  1ih6zui 2025-02-04 02:15:04   \n",
              "\n",
              "                                                  title  \\\n",
              "0     Can't help but isolate myself from everyone fo...   \n",
              "1                                             Sick joke   \n",
              "2                             struggles with depression   \n",
              "3                                             Weird day   \n",
              "4     I had to post to get it off my chest. Maybe it...   \n",
              "...                                                 ...   \n",
              "1461                Getting out of a toxic relationship   \n",
              "1462  Fell in love with someone but they discovered ...   \n",
              "1463                        I dont like who I am at all   \n",
              "1464  My friend murdered her husband and I just foun...   \n",
              "1465         I just want someone to validate me on this   \n",
              "\n",
              "                                               selftext  upvotes  \\\n",
              "0     I'm always socially anxious and have dealt wit...        3   \n",
              "1     Life really feels like a sick joke. Everyone g...        3   \n",
              "2     Hey everyone, just thought I'd share a bit, an...        2   \n",
              "3     Had a anxiety attack just now. I am sure my ey...        3   \n",
              "4     You know I really don't want to leave you. I d...        3   \n",
              "...                                                 ...      ...   \n",
              "1461  My partner (M31) and I (W28) have been togethe...        2   \n",
              "1462  I (19m) fell back in love with someone (19nb) ...        1   \n",
              "1463  I really dont know why I'm like this. I dont f...        7   \n",
              "1464  Throwaway account, who knows who's reading thi...     1077   \n",
              "1465  **TRIGGER WARNING!!!!** ~~suicide~~\\n\\nSorry f...        9   \n",
              "\n",
              "      num_comments                                                url  \\\n",
              "0                4  https://www.reddit.com/r/depression/comments/1...   \n",
              "1                0  https://www.reddit.com/r/depression/comments/1...   \n",
              "2                2  https://www.reddit.com/r/depression/comments/1...   \n",
              "3                0  https://www.reddit.com/r/depression/comments/1...   \n",
              "4                1  https://www.reddit.com/r/depression/comments/1...   \n",
              "...            ...                                                ...   \n",
              "1461             0  https://www.reddit.com/r/TrueOffMyChest/commen...   \n",
              "1462             9  https://www.reddit.com/r/TrueOffMyChest/commen...   \n",
              "1463             2  https://www.reddit.com/r/TrueOffMyChest/commen...   \n",
              "1464            64  https://www.reddit.com/r/TrueOffMyChest/commen...   \n",
              "1465             3  https://www.reddit.com/r/TrueOffMyChest/commen...   \n",
              "\n",
              "                                                   text  \\\n",
              "0     Can't help but isolate myself from everyone fo...   \n",
              "1     Sick joke Life really feels like a sick joke. ...   \n",
              "2     struggles with depression Hey everyone, just t...   \n",
              "3     Weird day Had a anxiety attack just now. I am ...   \n",
              "4     I had to post to get it off my chest. Maybe it...   \n",
              "...                                                 ...   \n",
              "1461  Getting out of a toxic relationship My partner...   \n",
              "1462  Fell in love with someone but they discovered ...   \n",
              "1463  I dont like who I am at all I really dont know...   \n",
              "1464  My friend murdered her husband and I just foun...   \n",
              "1465  I just want someone to validate me on this **T...   \n",
              "\n",
              "                                             clean_text  \n",
              "0     cant help isolate everyone months even im wors...  \n",
              "1     sick joke life really feels like sick joke eve...  \n",
              "2     struggles depression hey everyone thought id s...  \n",
              "3     weird day anxiety attack sure eyes swollen bur...  \n",
              "4     post get chest maybe itll hhelp maybe wont lif...  \n",
              "...                                                 ...  \n",
              "1461  getting toxic relationship partner w together ...  \n",
              "1462  fell love someone discovered lesbian advice fe...  \n",
              "1463  dont like really dont know im like dont feel l...  \n",
              "1464  friend murdered husband found several weeks fa...  \n",
              "1465  want someone validate trigger warning suicide ...  \n",
              "\n",
              "[1466 rows x 9 columns]"
            ]
          },
          "execution_count": 11,
          "metadata": {},
          "output_type": "execute_result"
        }
      ],
      "source": [
        "df"
      ]
    },
    {
      "cell_type": "markdown",
      "metadata": {
        "id": "cE3Vn6bjGxJa"
      },
      "source": [
        "## 💬 Task 2: Sentiment & Crisis Risk Classification\n",
        "\n",
        "- Use VADER for sentiment analysis.\n",
        "- Define simple rules to classify risk level (High / Moderate / Low).\n",
        "- Visualize sentiment and risk distributions.\n"
      ]
    },
    {
      "cell_type": "code",
      "execution_count": 12,
      "metadata": {
        "colab": {
          "base_uri": "https://localhost:8080/"
        },
        "id": "nb8la8PhD_ds",
        "outputId": "9c52aba8-905b-4df6-b573-59f4abc2e043"
      },
      "outputs": [
        {
          "name": "stderr",
          "output_type": "stream",
          "text": [
            "[nltk_data] Downloading package vader_lexicon to /root/nltk_data...\n",
            "[nltk_data]   Package vader_lexicon is already up-to-date!\n"
          ]
        },
        {
          "name": "stdout",
          "output_type": "stream",
          "text": [
            "\n",
            "✅ Classified dataset saved as 'reddit_crisis_classified.csv'\n"
          ]
        }
      ],
      "source": [
        "# ✅ Task 2: Sentiment & Crisis Risk Classification\n",
        "from nltk.sentiment.vader import SentimentIntensityAnalyzer\n",
        "nltk.download('vader_lexicon')\n",
        "\n",
        "if len(data) == 0:\n",
        "    print(\"No posts found. Check Reddit credentials or rate limits.\")\n",
        "else:\n",
        "    # Sentiment Analysis using VADER\n",
        "    sia = SentimentIntensityAnalyzer()\n",
        "    df['sentiment_score'] = df['clean_text'].apply(lambda x: sia.polarity_scores(x)['compound'])\n",
        "    df['sentiment'] = df['sentiment_score'].apply(\n",
        "        lambda score: 'Positive' if score > 0.05 else ('Negative' if score < -0.05 else 'Neutral')\n",
        "    )\n",
        "\n",
        "    # Crisis Risk Categorization\n",
        "    def classify_risk(text):\n",
        "        text = text.lower()\n",
        "        high_risk_terms = [\"end it all\", \"suicidal\", \"i don't want to live\", \"kill myself\"]\n",
        "        moderate_terms = [\"i need help\", \"feel lost\", \"struggling\", \"i feel empty\", \"relapse\"]\n",
        "\n",
        "        if any(term in text for term in high_risk_terms):\n",
        "            return \"High-Risk\"\n",
        "        elif any(term in text for term in moderate_terms):\n",
        "            return \"Moderate Concern\"\n",
        "        else:\n",
        "            return \"Low Concern\"\n",
        "\n",
        "    df['risk_level'] = df['clean_text'].apply(classify_risk)\n",
        "    # ✅ Save Final Classified Dataset\n",
        "    df.to_csv(\"reddit_crisis_classified.csv\", index=False)\n",
        "    print(\"\\n✅ Classified dataset saved as 'reddit_crisis_classified.csv'\")"
      ]
    },
    {
      "cell_type": "code",
      "execution_count": 13,
      "metadata": {
        "colab": {
          "base_uri": "https://localhost:8080/",
          "height": 507
        },
        "id": "m9dppJRWFocZ",
        "outputId": "a3c5d712-964f-4adb-cde1-00c62fbdbdd9"
      },
      "outputs": [
        {
          "data": {
            "image/png": "[encoded data removed]",
            "text/plain": [
              "<Figure size 1000x500 with 1 Axes>"
            ]
          },
          "metadata": {},
          "output_type": "display_data"
        }
      ],
      "source": [
        "# ✅ Visualize Distribution\n",
        "plt.figure(figsize=(10,5))\n",
        "sns.countplot(data=df, x='sentiment', hue='risk_level', palette='Set2')\n",
        "plt.title(\"Sentiment vs Crisis Risk Level\")\n",
        "plt.ylabel(\"Number of Posts\")\n",
        "plt.xticks(rotation=0)\n",
        "plt.tight_layout()\n",
        "plt.show()"
      ]
    },
    {
      "cell_type": "markdown",
      "metadata": {
        "id": "bfB_YKyeHDha"
      },
      "source": [
        "## 🌍 Task 3: Crisis Geolocation & Heatmap\n",
        "\n",
        "- Extract location entities from post text using spaCy.\n",
        "- Geocode locations using GeoPy.\n",
        "- Plot heatmap using Folium.\n"
      ]
    },
    {
      "cell_type": "code",
      "execution_count": 14,
      "metadata": {
        "colab": {
          "base_uri": "https://localhost:8080/"
        },
        "id": "i8piYnpVHGSP",
        "outputId": "ac127676-7541-4b42-9178-c0a02eee54b5"
      },
      "outputs": [
        {
          "name": "stdout",
          "output_type": "stream",
          "text": [
            "Requirement already satisfied: geopy in /usr/local/lib/python3.11/dist-packages (2.4.1)\n",
            "Requirement already satisfied: folium in /usr/local/lib/python3.11/dist-packages (0.19.5)\n",
            "Requirement already satisfied: geographiclib<3,>=1.52 in /usr/local/lib/python3.11/dist-packages (from geopy) (2.0)\n",
            "Requirement already satisfied: branca>=0.6.0 in /usr/local/lib/python3.11/dist-packages (from folium) (0.8.1)\n",
            "Requirement already satisfied: jinja2>=2.9 in /usr/local/lib/python3.11/dist-packages (from folium) (3.1.6)\n",
            "Requirement already satisfied: numpy in /usr/local/lib/python3.11/dist-packages (from folium) (2.0.2)\n",
            "Requirement already satisfied: requests in /usr/local/lib/python3.11/dist-packages (from folium) (2.32.3)\n",
            "Requirement already satisfied: xyzservices in /usr/local/lib/python3.11/dist-packages (from folium) (2025.1.0)\n",
            "Requirement already satisfied: MarkupSafe>=2.0 in /usr/local/lib/python3.11/dist-packages (from jinja2>=2.9->folium) (3.0.2)\n",
            "Requirement already satisfied: charset-normalizer<4,>=2 in /usr/local/lib/python3.11/dist-packages (from requests->folium) (3.4.1)\n",
            "Requirement already satisfied: idna<4,>=2.5 in /usr/local/lib/python3.11/dist-packages (from requests->folium) (3.10)\n",
            "Requirement already satisfied: urllib3<3,>=1.21.1 in /usr/local/lib/python3.11/dist-packages (from requests->folium) (2.3.0)\n",
            "Requirement already satisfied: certifi>=2017.4.17 in /usr/local/lib/python3.11/dist-packages (from requests->folium) (2025.1.31)\n"
          ]
        }
      ],
      "source": [
        "# 📌 Task 3: Crisis Geolocation & Mapping\n",
        "# Install Required Libraries\n",
        "!pip install geopy folium\n",
        "import folium\n",
        "from geopy.geocoders import Nominatim\n",
        "from geopy.exc import GeocoderTimedOut\n",
        "from folium.plugins import HeatMap\n",
        "import time\n",
        "\n"
      ]
    },
    {
      "cell_type": "code",
      "execution_count": 15,
      "metadata": {
        "id": "LQTgBX9tItg4"
      },
      "outputs": [],
      "source": [
        "# ✅ Initialize geolocator\n",
        "geolocator = Nominatim(user_agent=\"mental_health_mapper\")\n",
        "\n",
        "# ✅ Simple location extractor using keyword matching (basic NLP)\n",
        "# You can improve this using spaCy's NER in future\n",
        "locations = []\n",
        "common_places = [\"New York\", \"Los Angeles\", \"London\", \"Austin\", \"Chicago\",\n",
        "                 \"Toronto\", \"San Francisco\", \"Boston\", \"Seattle\", \"Mumbai\", \"Delhi\", \"Bangalore\"]\n"
      ]
    },
    {
      "cell_type": "code",
      "execution_count": 16,
      "metadata": {
        "colab": {
          "base_uri": "https://localhost:8080/"
        },
        "id": "a-0Q_GVjI24B",
        "outputId": "4e34b7a5-b5c9-47f8-c5ac-56378a09fdeb"
      },
      "outputs": [
        {
          "name": "stdout",
          "output_type": "stream",
          "text": [
            "\n",
            "📍 Top Mentioned Locations:\n"
          ]
        }
      ],
      "source": [
        "for text in df['clean_text']:\n",
        "    for place in common_places:\n",
        "        if place.lower() in text.lower():\n",
        "            locations.append(place)\n",
        "\n",
        "# ✅ Count locations\n",
        "from collections import Counter\n",
        "location_freq = Counter(locations)\n",
        "\n"
      ]
    },
    {
      "cell_type": "code",
      "execution_count": 19,
      "metadata": {
        "colab": {
          "base_uri": "https://localhost:8080/"
        },
        "id": "ki7IHp7BJDvX",
        "outputId": "013a9101-8c5e-489b-b5cb-75001926b70c"
      },
      "outputs": [
        {
          "name": "stdout",
          "output_type": "stream",
          "text": [
            "\n",
            "📍 Top Mentioned Locations:\n",
            "Austin: 49 mentions\n",
            "London: 4 mentions\n",
            "Toronto: 2 mentions\n",
            "New York: 2 mentions\n",
            "Mumbai: 1 mentions\n"
          ]
        }
      ],
      "source": [
        "print(\"\\n📍 Top Mentioned Locations:\")\n",
        "for loc, freq in location_freq.most_common(5):\n",
        "    print(f\"{loc}: {freq} mentions\")\n",
        "\n",
        "# ✅ Geocode top 5 locations\n",
        "geo_data = []\n",
        "for loc, freq in location_freq.most_common(5):\n",
        "    try:\n",
        "        location = geolocator.geocode(loc, timeout=10)\n",
        "        if location:\n",
        "            geo_data.append([location.latitude, location.longitude, freq])\n",
        "        time.sleep(1)  # To respect API limits\n",
        "    except GeocoderTimedOut:\n",
        "        print(f\"Timeout: {loc}\")"
      ]
    },
    {
      "cell_type": "code",
      "execution_count": 21,
      "metadata": {
        "colab": {
          "base_uri": "https://localhost:8080/",
          "height": 769
        },
        "id": "sqjnSMQcJFvw",
        "outputId": "88a8e9ef-6209-4f94-f421-3664e105a2fb"
      },
      "outputs": [
        {
          "data": {
            "text/html": [
              "<div style=\"width:100%;\"><div style=\"position:relative;width:100%;height:0;padding-bottom:60%;\"><span style=\"color:#565656\">Make this Notebook Trusted to load map: File -> Trust Notebook</span><iframe srcdoc=\"&lt;!DOCTYPE html&gt;\n",
              "&lt;html&gt;\n",
              "&lt;head&gt;\n",
              "    \n",
              "    &lt;meta http-equiv=&quot;content-type&quot; content=&quot;text/html; charset=UTF-8&quot; /&gt;\n",
              "    \n",
              "        &lt;script&gt;\n",
              "            L_NO_TOUCH = false;\n",
              "            L_DISABLE_3D = false;\n",
              "        &lt;/script&gt;\n",
              "    \n",
              "    &lt;style&gt;html, body {width: 100%;height: 100%;margin: 0;padding: 0;}&lt;/style&gt;\n",
              "    &lt;style&gt;#map {position:absolute;top:0;bottom:0;right:0;left:0;}&lt;/style&gt;\n",
              "    &lt;script src=&quot;https://cdn.jsdelivr.net/npm/leaflet@1.9.3/dist/leaflet.js&quot;&gt;&lt;/script&gt;\n",
              "    &lt;script src=&quot;https://code.jquery.com/jquery-3.7.1.min.js&quot;&gt;&lt;/script&gt;\n",
              "    &lt;script src=&quot;https://cdn.jsdelivr.net/npm/bootstrap@5.2.2/dist/js/bootstrap.bundle.min.js&quot;&gt;&lt;/script&gt;\n",
              "    &lt;script src=&quot;https://cdnjs.cloudflare.com/ajax/libs/Leaflet.awesome-markers/2.0.2/leaflet.awesome-markers.js&quot;&gt;&lt;/script&gt;\n",
              "    &lt;link rel=&quot;stylesheet&quot; href=&quot;https://cdn.jsdelivr.net/npm/leaflet@1.9.3/dist/leaflet.css&quot;/&gt;\n",
              "    &lt;link rel=&quot;stylesheet&quot; href=&quot;https://cdn.jsdelivr.net/npm/bootstrap@5.2.2/dist/css/bootstrap.min.css&quot;/&gt;\n",
              "    &lt;link rel=&quot;stylesheet&quot; href=&quot;https://netdna.bootstrapcdn.com/bootstrap/3.0.0/css/bootstrap-glyphicons.css&quot;/&gt;\n",
              "    &lt;link rel=&quot;stylesheet&quot; href=&quot;https://cdn.jsdelivr.net/npm/@fortawesome/fontawesome-free@6.2.0/css/all.min.css&quot;/&gt;\n",
              "    &lt;link rel=&quot;stylesheet&quot; href=&quot;https://cdnjs.cloudflare.com/ajax/libs/Leaflet.awesome-markers/2.0.2/leaflet.awesome-markers.css&quot;/&gt;\n",
              "    &lt;link rel=&quot;stylesheet&quot; href=&quot;https://cdn.jsdelivr.net/gh/python-visualization/folium/folium/templates/leaflet.awesome.rotate.min.css&quot;/&gt;\n",
              "    \n",
              "            &lt;meta name=&quot;viewport&quot; content=&quot;width=device-width,\n",
              "                initial-scale=1.0, maximum-scale=1.0, user-scalable=no&quot; /&gt;\n",
              "            &lt;style&gt;\n",
              "                #map_e71f0740de128a9b57068f11f9d31124 {\n",
              "                    position: relative;\n",
              "                    width: 100.0%;\n",
              "                    height: 100.0%;\n",
              "                    left: 0.0%;\n",
              "                    top: 0.0%;\n",
              "                }\n",
              "                .leaflet-container { font-size: 1rem; }\n",
              "            &lt;/style&gt;\n",
              "        \n",
              "    &lt;script src=&quot;https://cdn.jsdelivr.net/gh/python-visualization/folium@main/folium/templates/leaflet_heat.min.js&quot;&gt;&lt;/script&gt;\n",
              "&lt;/head&gt;\n",
              "&lt;body&gt;\n",
              "    \n",
              "    \n",
              "            &lt;div class=&quot;folium-map&quot; id=&quot;map_e71f0740de128a9b57068f11f9d31124&quot; &gt;&lt;/div&gt;\n",
              "        \n",
              "&lt;/body&gt;\n",
              "&lt;script&gt;\n",
              "    \n",
              "    \n",
              "            var map_e71f0740de128a9b57068f11f9d31124 = L.map(\n",
              "                &quot;map_e71f0740de128a9b57068f11f9d31124&quot;,\n",
              "                {\n",
              "                    center: [30.2711286, -97.7436995],\n",
              "                    crs: L.CRS.EPSG3857,\n",
              "                    ...{\n",
              "  &quot;zoom&quot;: 4,\n",
              "  &quot;zoomControl&quot;: true,\n",
              "  &quot;preferCanvas&quot;: false,\n",
              "}\n",
              "\n",
              "                }\n",
              "            );\n",
              "\n",
              "            \n",
              "\n",
              "        \n",
              "    \n",
              "            var tile_layer_31dae7d7866a131c8f24b37ffe1726fd = L.tileLayer(\n",
              "                &quot;Stamen Toner&quot;,\n",
              "                {\n",
              "  &quot;minZoom&quot;: 0,\n",
              "  &quot;maxZoom&quot;: 18,\n",
              "  &quot;maxNativeZoom&quot;: 18,\n",
              "  &quot;noWrap&quot;: false,\n",
              "  &quot;attribution&quot;: &quot;Map tiles by Stamen Design, CC BY 3.0 \\u2014 Map data \\u00a9 OpenStreetMap contributors&quot;,\n",
              "  &quot;subdomains&quot;: &quot;abc&quot;,\n",
              "  &quot;detectRetina&quot;: false,\n",
              "  &quot;tms&quot;: false,\n",
              "  &quot;opacity&quot;: 1,\n",
              "}\n",
              "\n",
              "            );\n",
              "        \n",
              "    \n",
              "            tile_layer_31dae7d7866a131c8f24b37ffe1726fd.addTo(map_e71f0740de128a9b57068f11f9d31124);\n",
              "        \n",
              "    \n",
              "            var heat_map_ef38c705a7362c4e852d9c70c7368e10 = L.heatLayer(\n",
              "                [[30.2711286, -97.7436995, 49], [51.5074456, -0.1277653, 4], [43.6534817, -79.3839347, 2], [40.7127281, -74.0060152, 2], [19.054999, 72.8692035, 1]],\n",
              "                {\n",
              "  &quot;minOpacity&quot;: 0.5,\n",
              "  &quot;maxZoom&quot;: 18,\n",
              "  &quot;radius&quot;: 25,\n",
              "  &quot;blur&quot;: 15,\n",
              "}\n",
              "            );\n",
              "        \n",
              "    \n",
              "            heat_map_ef38c705a7362c4e852d9c70c7368e10.addTo(map_e71f0740de128a9b57068f11f9d31124);\n",
              "        \n",
              "&lt;/script&gt;\n",
              "&lt;/html&gt;\" style=\"position:absolute;width:100%;height:100%;left:0;top:0;border:none !important;\" allowfullscreen webkitallowfullscreen mozallowfullscreen></iframe></div></div>"
            ],
            "text/plain": [
              "<folium.folium.Map at 0x7ea15f95a810>"
            ]
          },
          "metadata": {},
          "output_type": "display_data"
        }
      ],
      "source": [
        "# ✅ Generate Heatmap\n",
        "\n",
        "if geo_data:\n",
        "    map_center = geo_data[0][:2]\n",
        "    m = folium.Map(\n",
        "        location=map_center,\n",
        "        zoom_start=4,\n",
        "        tiles=\"Stamen Toner\",\n",
        "        attr=\"Map tiles by Stamen Design, CC BY 3.0 — Map data © OpenStreetMap contributors\"\n",
        "    )\n",
        "    HeatMap(geo_data).add_to(m)\n",
        "    display(m)\n",
        "else:\n",
        "    print(\"❌ No geolocation data to plot.\")\n"
      ]
    }
  ],
  "metadata": {
    "colab": {
      "provenance": []
    },
    "kernelspec": {
      "display_name": "Python 3",
      "name": "python3"
    },
    "language_info": {
      "name": "python"
    }
  },
  "nbformat": 4,
  "nbformat_minor": 0
}
